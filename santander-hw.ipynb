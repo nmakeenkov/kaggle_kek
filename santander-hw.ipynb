{
 "cells": [
  {
   "cell_type": "code",
   "execution_count": 1,
   "metadata": {
    "collapsed": false
   },
   "outputs": [],
   "source": [
    "import numpy as np\n",
    "import pandas as pd\n",
    "import xgboost as xgb\n",
    "import sklearn\n",
    "import sklearn.tree\n",
    "import sklearn.ensemble\n",
    "from sklearn.cross_validation import cross_val_score\n",
    "from sklearn import preprocessing as pp\n",
    "import matplotlib.pyplot as plt\n",
    "import random\n",
    "%matplotlib inline"
   ]
  },
  {
   "cell_type": "code",
   "execution_count": 2,
   "metadata": {
    "collapsed": false
   },
   "outputs": [],
   "source": [
    "data_train_read = pd.read_csv(\"train.csv\")\n",
    "data_test_read = pd.read_csv(\"test.csv\")"
   ]
  },
  {
   "cell_type": "code",
   "execution_count": 3,
   "metadata": {
    "collapsed": false
   },
   "outputs": [],
   "source": [
    "data_train = data_train_read.copy()"
   ]
  },
  {
   "cell_type": "code",
   "execution_count": 4,
   "metadata": {
    "collapsed": true
   },
   "outputs": [],
   "source": [
    "data_test = data_test_read.copy()"
   ]
  },
  {
   "cell_type": "code",
   "execution_count": 5,
   "metadata": {
    "collapsed": true
   },
   "outputs": [],
   "source": [
    "X_train = data_train[data_train.columns[1:len(data_train.columns) - 1]]\n",
    "X_test = data_test[data_test.columns[1:]]\n",
    "y_train = data_train['TARGET']"
   ]
  },
  {
   "cell_type": "code",
   "execution_count": 6,
   "metadata": {
    "collapsed": false
   },
   "outputs": [
    {
     "name": "stderr",
     "output_type": "stream",
     "text": [
      "/home/user/anaconda2/lib/python2.7/site-packages/ipykernel/__main__.py:10: SettingWithCopyWarning: \n",
      "A value is trying to be set on a copy of a slice from a DataFrame\n",
      "\n",
      "See the caveats in the documentation: http://pandas.pydata.org/pandas-docs/stable/indexing.html#indexing-view-versus-copy\n",
      "/home/user/anaconda2/lib/python2.7/site-packages/ipykernel/__main__.py:23: SettingWithCopyWarning: \n",
      "A value is trying to be set on a copy of a slice from a DataFrame\n",
      "\n",
      "See the caveats in the documentation: http://pandas.pydata.org/pandas-docs/stable/indexing.html#indexing-view-versus-copy\n"
     ]
    }
   ],
   "source": [
    "newX_train = X_train.copy()\n",
    "\n",
    "# remove constant columns\n",
    "colsToRemoveConst = []\n",
    "for col in newX_train.columns:\n",
    "    if newX_train[col].std() == 0:\n",
    "        colsToRemoveConst.append(col)\n",
    "\n",
    "newX_train.drop(colsToRemoveConst, axis=1, inplace=True)\n",
    "X_test.drop(colsToRemoveConst, axis=1, inplace=True)\n",
    "\n",
    "\n",
    "# remove duplicate columns\n",
    "colsToRemove = []\n",
    "columns = newX_train.columns\n",
    "for i in range(len(columns)-1):\n",
    "    v = newX_train[columns[i]].values\n",
    "    for j in range(i+1,len(columns)):\n",
    "        if np.array_equal(v, newX_train[columns[j]].values):\n",
    "            colsToRemove.append(columns[j])\n",
    "            \n",
    "newX_train.drop(colsToRemove, axis=1, inplace=True)\n",
    "X_test.drop(colsToRemove, axis=1, inplace=True)\n",
    "\n",
    "X_train = pd.DataFrame(newX_train)"
   ]
  },
  {
   "cell_type": "code",
   "execution_count": 7,
   "metadata": {
    "collapsed": false
   },
   "outputs": [],
   "source": [
    "random.seed(1337)\n",
    "X_train_zeros = []\n",
    "X_train_ones = []\n",
    "X_tr_v = np.array(X_train.values)\n",
    "for i in range(len(X_train)):\n",
    "    if y_train[i] == 0:\n",
    "        X_train_zeros.append(np.array(X_tr_v[i]))\n",
    "    else:\n",
    "        X_train_ones.append(np.array(X_tr_v[i]))\n",
    "\n",
    "X_train_ones = np.array(X_train_ones)\n",
    "X_train_zeros = np.array(X_train_zeros)\n",
    "\n",
    "def get_matrix():\n",
    "    res = []\n",
    "    alpha = len(X_train_ones) / (1. * len(X_train_zeros))\n",
    "    for i in range(len(X_train_zeros)):\n",
    "        if random.random() < (alpha * .777):\n",
    "            res.append(np.array([np.array(X_train_zeros[i]), 0]))\n",
    "    for i in range(len(X_train_ones)):\n",
    "        if random.random() < .777:\n",
    "            res.append(np.array([np.array(X_train_ones[i]), 1]))\n",
    "    random.shuffle(res)\n",
    "    x = []\n",
    "    y = []\n",
    "    for i in res:\n",
    "        x.append(i[0])\n",
    "        y.append(i[1])\n",
    "    x = np.array(x)\n",
    "    y = np.array(y)\n",
    "    return xgb.DMatrix(x, label=y)"
   ]
  },
  {
   "cell_type": "code",
   "execution_count": null,
   "metadata": {
    "collapsed": true
   },
   "outputs": [],
   "source": []
  },
  {
   "cell_type": "code",
   "execution_count": 17,
   "metadata": {
    "collapsed": false
   },
   "outputs": [
    {
     "name": "stdout",
     "output_type": "stream",
     "text": [
      "0.835439333333 0.865705333333\n"
     ]
    }
   ],
   "source": [
    "params = {}  \n",
    "params['objective']           = \"binary:logistic\" \n",
    "params['booster']             = \"gbtree\"\n",
    "params['eval_metric']         = \"auc\"\n",
    "params['eta']                 = 0.02\n",
    "params['max_depth']           = 5\n",
    "params['subsample']           = 0.681\n",
    "params['colsample_bytree']    = 0.7\n",
    "\n",
    "dtrain = get_matrix()\n",
    "score = xgb.cv(params=list(params.items()), dtrain=dtrain, num_boost_round=100)\n",
    "\n",
    "print score['test-auc-mean'][99], score['train-auc-mean'][99]"
   ]
  },
  {
   "cell_type": "code",
   "execution_count": null,
   "metadata": {
    "collapsed": true
   },
   "outputs": [],
   "source": []
  },
  {
   "cell_type": "code",
   "execution_count": 10,
   "metadata": {
    "collapsed": false
   },
   "outputs": [],
   "source": [
    "params = {}  \n",
    "params['objective']           = \"binary:logistic\" \n",
    "params['booster']             = \"gbtree\"\n",
    "params['eval_metric']         = \"auc\"\n",
    "params['eta']                 = 0.02\n",
    "params['max_depth']           = 5\n",
    "params['subsample']           = 0.681\n",
    "params['colsample_bytree']    = 0.7\n",
    "\n",
    "ITERS = 20\n",
    "\n",
    "preds = []\n",
    "for i in range(ITERS):\n",
    "    bst = xgb.train(params=list(params.items()), dtrain=get_matrix(), num_boost_round=32)\n",
    "    preds.append(bst.predict(xgb.DMatrix(X_test)))"
   ]
  },
  {
   "cell_type": "code",
   "execution_count": 11,
   "metadata": {
    "collapsed": false
   },
   "outputs": [],
   "source": [
    "y_test = [0.] * len(X_test)\n",
    "for i in range(ITERS):\n",
    "    for j in range(len(X_test)):\n",
    "        y_test[j] += preds[i][j] / (1. * ITERS)\n",
    "y_test = np.array(y_test)"
   ]
  },
  {
   "cell_type": "code",
   "execution_count": 12,
   "metadata": {
    "collapsed": false
   },
   "outputs": [
    {
     "name": "stdout",
     "output_type": "stream",
     "text": [
      "0\n"
     ]
    }
   ],
   "source": [
    "trash_count = 0\n",
    "for i in range(len(y_test)):\n",
    "    if y_test[i] < 0:\n",
    "        y_test[i] = 0\n",
    "        trash_count += 1\n",
    "    if y_test[i] > 1:\n",
    "        y_test[i] = 1\n",
    "        trash_count += 1\n",
    "print trash_count\n",
    "ans = pd.DataFrame(index=data_test['ID'], data={'TARGET': y_test})\n",
    "ans.to_csv('my_super_elite_submission_1337.csv')"
   ]
  },
  {
   "cell_type": "code",
   "execution_count": 13,
   "metadata": {
    "collapsed": false
   },
   "outputs": [
    {
     "data": {
      "text/html": [
       "<div>\n",
       "<table border=\"1\" class=\"dataframe\">\n",
       "  <thead>\n",
       "    <tr style=\"text-align: right;\">\n",
       "      <th></th>\n",
       "      <th>TARGET</th>\n",
       "    </tr>\n",
       "  </thead>\n",
       "  <tbody>\n",
       "    <tr>\n",
       "      <th>count</th>\n",
       "      <td>75818.000000</td>\n",
       "    </tr>\n",
       "    <tr>\n",
       "      <th>mean</th>\n",
       "      <td>0.313295</td>\n",
       "    </tr>\n",
       "    <tr>\n",
       "      <th>std</th>\n",
       "      <td>0.052186</td>\n",
       "    </tr>\n",
       "    <tr>\n",
       "      <th>min</th>\n",
       "      <td>0.271047</td>\n",
       "    </tr>\n",
       "    <tr>\n",
       "      <th>25%</th>\n",
       "      <td>0.276883</td>\n",
       "    </tr>\n",
       "    <tr>\n",
       "      <th>50%</th>\n",
       "      <td>0.294085</td>\n",
       "    </tr>\n",
       "    <tr>\n",
       "      <th>75%</th>\n",
       "      <td>0.320260</td>\n",
       "    </tr>\n",
       "    <tr>\n",
       "      <th>max</th>\n",
       "      <td>0.591699</td>\n",
       "    </tr>\n",
       "  </tbody>\n",
       "</table>\n",
       "</div>"
      ],
      "text/plain": [
       "             TARGET\n",
       "count  75818.000000\n",
       "mean       0.313295\n",
       "std        0.052186\n",
       "min        0.271047\n",
       "25%        0.276883\n",
       "50%        0.294085\n",
       "75%        0.320260\n",
       "max        0.591699"
      ]
     },
     "execution_count": 13,
     "metadata": {},
     "output_type": "execute_result"
    }
   ],
   "source": [
    "ans.describe()"
   ]
  }
 ],
 "metadata": {
  "kernelspec": {
   "display_name": "Python 2",
   "language": "python",
   "name": "python2"
  },
  "language_info": {
   "codemirror_mode": {
    "name": "ipython",
    "version": 2
   },
   "file_extension": ".py",
   "mimetype": "text/x-python",
   "name": "python",
   "nbconvert_exporter": "python",
   "pygments_lexer": "ipython2",
   "version": "2.7.11"
  }
 },
 "nbformat": 4,
 "nbformat_minor": 0
}
