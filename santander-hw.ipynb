{
 "cells": [
  {
   "cell_type": "code",
   "execution_count": 77,
   "metadata": {
    "collapsed": false
   },
   "outputs": [],
   "source": [
    "import numpy as np\n",
    "import pandas as pd\n",
    "import xgboost as xgb\n",
    "import sklearn\n",
    "import sklearn.tree\n",
    "import sklearn.ensemble\n",
    "from sklearn.cross_validation import cross_val_score\n",
    "from sklearn import preprocessing as pp\n",
    "import matplotlib.pyplot as plt\n",
    "%matplotlib inline"
   ]
  },
  {
   "cell_type": "code",
   "execution_count": 7,
   "metadata": {
    "collapsed": true
   },
   "outputs": [],
   "source": [
    "data_train_read = pd.read_csv(\"train.csv\")\n",
    "data_test_read = pd.read_csv(\"test.csv\")"
   ]
  },
  {
   "cell_type": "code",
   "execution_count": 58,
   "metadata": {
    "collapsed": false
   },
   "outputs": [],
   "source": [
    "data_train = data_train_read.copy()"
   ]
  },
  {
   "cell_type": "code",
   "execution_count": 59,
   "metadata": {
    "collapsed": true
   },
   "outputs": [],
   "source": [
    "data_test = data_test_read.copy()"
   ]
  },
  {
   "cell_type": "code",
   "execution_count": 35,
   "metadata": {
    "collapsed": false
   },
   "outputs": [],
   "source": [
    "table = data_train.corr()"
   ]
  },
  {
   "cell_type": "code",
   "execution_count": 36,
   "metadata": {
    "collapsed": false
   },
   "outputs": [
    {
     "name": "stdout",
     "output_type": "stream",
     "text": [
      "202\n"
     ]
    }
   ],
   "source": [
    "#print table.head(12)\n",
    "#print data.columns[[10, 11]]\n",
    "\n",
    "tv = table.values\n",
    "edges = []\n",
    "for i in range(len(tv)):\n",
    "    for j in range(i + 1, len(tv) - 1):\n",
    "        if np.abs(tv[i][j]) > .97:\n",
    "            edges.append([i, j])\n",
    "\n",
    "print len(edges)"
   ]
  },
  {
   "cell_type": "code",
   "execution_count": 37,
   "metadata": {
    "collapsed": false
   },
   "outputs": [],
   "source": [
    "vertices = {}\n",
    "for e in edges:\n",
    "    vertices[e[0]] = True\n",
    "    vertices[e[1]] = True\n",
    "    \n",
    "vertices = vertices.keys()\n",
    "do_not_del = [False] * len(vertices)\n",
    "power = [0] * len(vertices)\n",
    "to_del = []\n",
    "for edge in edges:\n",
    "    power[vertices.index(edge[0])] += 1\n",
    "    power[vertices.index(edge[1])] += 1\n",
    "# print pd.DataFrame(data={\"K\":power})[\"K\"].value_counts()\n",
    "for i in range(len(vertices)):\n",
    "    if power[i] >= 5:\n",
    "        to_del.append(vertices[i])\n",
    "        \n",
    "to_del = data_train.columns[to_del]"
   ]
  },
  {
   "cell_type": "code",
   "execution_count": 38,
   "metadata": {
    "collapsed": false
   },
   "outputs": [],
   "source": [
    "for cur in to_del:\n",
    "    del data_train[cur]\n",
    "    del data_test[cur]"
   ]
  },
  {
   "cell_type": "code",
   "execution_count": 60,
   "metadata": {
    "collapsed": true
   },
   "outputs": [],
   "source": [
    "X_train = data_train[data_train.columns[1:len(data_train.columns) - 1]]\n",
    "y_train = data_train['TARGET']"
   ]
  },
  {
   "cell_type": "code",
   "execution_count": 75,
   "metadata": {
    "collapsed": false
   },
   "outputs": [],
   "source": [
    "clf = xgb.XGBRegressor(nthread=4, \n",
    "                       max_depth=8, \n",
    "                       n_estimators=30, \n",
    "                       subsample=0.5, \n",
    "                       learning_rate=0.1, \n",
    "                       seed=228)"
   ]
  },
  {
   "cell_type": "code",
   "execution_count": 76,
   "metadata": {
    "collapsed": false
   },
   "outputs": [
    {
     "name": "stdout",
     "output_type": "stream",
     "text": [
      "0.825269058877\n",
      "CPU times: user 5min 38s, sys: 2.92 s, total: 5min 41s\n",
      "Wall time: 1min 39s\n"
     ]
    }
   ],
   "source": [
    "scores = cross_val_score(clf, X_train, y_train, scoring='roc_auc', cv=3)\n",
    "print scores.mean()"
   ]
  },
  {
   "cell_type": "markdown",
   "metadata": {},
   "source": [
    "# Найти нормальные значения n_est learing_rate для того, чтобы запускать KFold\n",
    "\n",
    "## Wall time: 4min 17s \n",
    "### n_est=150, learing_rate=0.06\n",
    "### ok\n",
    "\n",
    "## Wall time: 2min 34s\n",
    "### n_est=100, learing_rate=0.1\n",
    "#### 1337->0.814105354026\n",
    "#### 228 ->0.816250075442\n",
    "\n",
    "## Wall time: 55.8 s\n",
    "### n_est=30, learning_rate=0.1\n",
    "#### 228->0.83113778196\n",
    "#### 1337->0.829493695636\n",
    "\n",
    "## Wall time: 1min 20 s\n",
    "### n_est=50, learning_rate=0.1\n",
    "#### 228->0.827046894815\n",
    "#### 1337->0.824907872251\n",
    "\n"
   ]
  },
  {
   "cell_type": "code",
   "execution_count": 90,
   "metadata": {
    "collapsed": false
   },
   "outputs": [
    {
     "data": {
      "image/png": "[encoded data removed]",
      "text/plain": [
       "<matplotlib.figure.Figure at 0x7fa8d2548a90>"
      ]
     },
     "metadata": {},
     "output_type": "display_data"
    }
   ],
   "source": [
    "lr = np.linspace(0.02, 0.05, 4)\n",
    "f = []\n",
    "s = []\n",
    "for lr_ in lr:\n",
    "    clf = xgb.XGBRegressor(nthread=4, \n",
    "                       max_depth=8, \n",
    "                       n_estimators=30, \n",
    "                       subsample=0.5, \n",
    "                       learning_rate=lr_, \n",
    "                       seed=1337)\n",
    "    scores = cross_val_score(clf, X_train, y_train, scoring='roc_auc', cv=3)\n",
    "    f.append(scores.mean())\n",
    "    clf = xgb.XGBRegressor(nthread=4, \n",
    "                       max_depth=8, \n",
    "                       n_estimators=30, \n",
    "                       subsample=0.5, \n",
    "                       learning_rate=lr_, \n",
    "                       seed=228)\n",
    "    scores = cross_val_score(clf, X_train, y_train, scoring='roc_auc', cv=3)\n",
    "    s.append(scores.mean())\n",
    "\n",
    "plt.figure(figsize=(16, 8))\n",
    "plt.plot(lr, f, color='r')\n",
    "plt.scatter(lr, f, marker='x')\n",
    "plt.plot(lr, s, color='g')\n",
    "plt.scatter(lr, s, marker='x')\n",
    "plt.show()"
   ]
  },
  {
   "cell_type": "code",
   "execution_count": 89,
   "metadata": {
    "collapsed": false
   },
   "outputs": [
    {
     "data": {
      "image/png": "[encoded data removed]",
      "text/plain": [
       "<matplotlib.figure.Figure at 0x7fa8d120f290>"
      ]
     },
     "metadata": {},
     "output_type": "display_data"
    }
   ],
   "source": [
    "plt.figure(figsize=(16, 8))\n",
    "plt.plot(lr, f, color='r')\n",
    "plt.scatter(lr, f, marker='x')\n",
    "plt.plot(lr, s, color='g')\n",
    "plt.scatter(lr, s, marker='x')\n",
    "plt.show()"
   ]
  },
  {
   "cell_type": "code",
   "execution_count": 85,
   "metadata": {
    "collapsed": false
   },
   "outputs": [
    {
     "data": {
      "image/png": "[encoded data removed]",
      "text/plain": [
       "<matplotlib.figure.Figure at 0x7fa8d265b650>"
      ]
     },
     "metadata": {},
     "output_type": "display_data"
    }
   ],
   "source": [
    "plt.figure(figsize=(16, 8))\n",
    "plt.plot(lr, f, color='r')\n",
    "plt.scatter(lr, f, marker='x')\n",
    "plt.plot(lr, s, color='g')\n",
    "plt.scatter(lr, s, marker='x')\n",
    "plt.show()"
   ]
  },
  {
   "cell_type": "markdown",
   "metadata": {},
   "source": [
    "# Норм решение - 30 n_est, 0.05 lr !!!"
   ]
  },
  {
   "cell_type": "markdown",
   "metadata": {
    "collapsed": true
   },
   "source": [
    "learning rate=0.006 был, сейчас работаем с 0.06\n",
    "# Граф, удаляем 1: 0.828266253987\n",
    "### learning_rate=0.06 \n",
    "### 5, 6 -> 0.829583118157\n",
    "### seed=228 -> 0.833233596118\n",
    "### n_estimators=150, seed=228->0.82208934218, seed=1337->0.822197134319 - Норм))0)\n",
    "# Без графа + минмакс: 0.82961981754\n",
    "### learning_rate=0.06 -> 0.832801251368\n",
    "### seed=228 -> 0.832362544101"
   ]
  },
  {
   "cell_type": "markdown",
   "metadata": {
    "collapsed": true
   },
   "source": [
    "# Удалить константы  и дубликаты -> 0.82362770529\n",
    "\n",
    "\n",
    "# Оставить все как было -> 0.822325965941"
   ]
  },
  {
   "cell_type": "code",
   "execution_count": 35,
   "metadata": {
    "collapsed": false
   },
   "outputs": [
    {
     "data": {
      "text/plain": [
       "XGBRegressor(base_score=0.5, colsample_bylevel=1, colsample_bytree=1, gamma=0,\n",
       "       learning_rate=0.006, max_delta_step=0, max_depth=8,\n",
       "       min_child_weight=1, missing=None, n_estimators=1000, nthread=4,\n",
       "       objective='reg:linear', reg_alpha=0, reg_lambda=1,\n",
       "       scale_pos_weight=1, seed=1337, silent=True, subsample=0.5)"
      ]
     },
     "execution_count": 35,
     "metadata": {},
     "output_type": "execute_result"
    }
   ],
   "source": [
    "clf.fit(X_train, y_train)"
   ]
  },
  {
   "cell_type": "code",
   "execution_count": 36,
   "metadata": {
    "collapsed": true
   },
   "outputs": [],
   "source": [
    "X_test = data_test[data_test.columns[1:]]"
   ]
  },
  {
   "cell_type": "code",
   "execution_count": 37,
   "metadata": {
    "collapsed": false
   },
   "outputs": [],
   "source": [
    "y_test = clf.predict(X_test)"
   ]
  },
  {
   "cell_type": "code",
   "execution_count": 1,
   "metadata": {
    "collapsed": false
   },
   "outputs": [
    {
     "ename": "NameError",
     "evalue": "name 'y_test' is not defined",
     "output_type": "error",
     "traceback": [
      "\u001b[1;31m---------------------------------------------------------------------------\u001b[0m",
      "\u001b[1;31mNameError\u001b[0m                                 Traceback (most recent call last)",
      "\u001b[1;32m<ipython-input-1-267c97a4221c>\u001b[0m in \u001b[0;36m<module>\u001b[1;34m()\u001b[0m\n\u001b[0;32m      1\u001b[0m \u001b[0mtrash_count\u001b[0m \u001b[1;33m=\u001b[0m \u001b[1;36m0\u001b[0m\u001b[1;33m\u001b[0m\u001b[0m\n\u001b[1;32m----> 2\u001b[1;33m \u001b[1;32mfor\u001b[0m \u001b[0mi\u001b[0m \u001b[1;32min\u001b[0m \u001b[0mrange\u001b[0m\u001b[1;33m(\u001b[0m\u001b[0mlen\u001b[0m\u001b[1;33m(\u001b[0m\u001b[0my_test\u001b[0m\u001b[1;33m)\u001b[0m\u001b[1;33m)\u001b[0m\u001b[1;33m:\u001b[0m\u001b[1;33m\u001b[0m\u001b[0m\n\u001b[0m\u001b[0;32m      3\u001b[0m     \u001b[1;32mif\u001b[0m \u001b[0my_test\u001b[0m\u001b[1;33m[\u001b[0m\u001b[0mi\u001b[0m\u001b[1;33m]\u001b[0m \u001b[1;33m<\u001b[0m \u001b[1;36m0\u001b[0m\u001b[1;33m:\u001b[0m\u001b[1;33m\u001b[0m\u001b[0m\n\u001b[0;32m      4\u001b[0m         \u001b[0my_test\u001b[0m\u001b[1;33m[\u001b[0m\u001b[0mi\u001b[0m\u001b[1;33m]\u001b[0m \u001b[1;33m=\u001b[0m \u001b[1;36m0\u001b[0m\u001b[1;33m\u001b[0m\u001b[0m\n\u001b[0;32m      5\u001b[0m         \u001b[0mtrash_count\u001b[0m \u001b[1;33m+=\u001b[0m \u001b[1;36m1\u001b[0m\u001b[1;33m\u001b[0m\u001b[0m\n",
      "\u001b[1;31mNameError\u001b[0m: name 'y_test' is not defined"
     ]
    }
   ],
   "source": [
    "trash_count = 0\n",
    "for i in range(len(y_test)):\n",
    "    if y_test[i] < 0:\n",
    "        y_test[i] = 0\n",
    "        trash_count += 1\n",
    "    if y_test[i] > 1:\n",
    "        y_test[i] = 1\n",
    "        trash_count += 1\n",
    "print trash_count\n",
    "ans = pd.DataFrame(index=data_test['ID'], data={'TARGET': y_test})\n",
    "ans.to_csv('kek.csv')"
   ]
  },
  {
   "cell_type": "code",
   "execution_count": 11,
   "metadata": {
    "collapsed": false
   },
   "outputs": [],
   "source": [
    "min_max_scaler = pp.MinMaxScaler()\n",
    "X_train = min_max_scaler.fit_transform(X_train)"
   ]
  },
  {
   "cell_type": "code",
   "execution_count": 4,
   "metadata": {
    "collapsed": false
   },
   "outputs": [
    {
     "ename": "NameError",
     "evalue": "name 'pd' is not defined",
     "output_type": "error",
     "traceback": [
      "\u001b[1;31m---------------------------------------------------------------------------\u001b[0m",
      "\u001b[1;31mNameError\u001b[0m                                 Traceback (most recent call last)",
      "\u001b[1;32m<ipython-input-4-a1f5da7015d5>\u001b[0m in \u001b[0;36m<module>\u001b[1;34m()\u001b[0m\n\u001b[1;32m----> 1\u001b[1;33m \u001b[0mpd\u001b[0m\u001b[1;33m.\u001b[0m\u001b[0mDataFrame\u001b[0m\u001b[1;33m(\u001b[0m\u001b[0mX_train_minmax\u001b[0m\u001b[1;33m)\u001b[0m\u001b[1;33m.\u001b[0m\u001b[0mdescribe\u001b[0m\u001b[1;33m(\u001b[0m\u001b[1;33m)\u001b[0m\u001b[1;33m\u001b[0m\u001b[0m\n\u001b[0m",
      "\u001b[1;31mNameError\u001b[0m: name 'pd' is not defined"
     ]
    }
   ],
   "source": [
    "pd.DataFrame(X_train_minmax).describe()"
   ]
  },
  {
   "cell_type": "code",
   "execution_count": 52,
   "metadata": {
    "collapsed": true
   },
   "outputs": [],
   "source": [
    "newX_train = X_train.copy()"
   ]
  },
  {
   "cell_type": "code",
   "execution_count": 53,
   "metadata": {
    "collapsed": false
   },
   "outputs": [
    {
     "name": "stdout",
     "output_type": "stream",
     "text": [
      "constant 34\n"
     ]
    }
   ],
   "source": [
    "# remove constant columns\n",
    "colsToRemove = []\n",
    "for col in newX_train.columns:\n",
    "    if newX_train[col].std() == 0:\n",
    "        colsToRemove.append(col)\n",
    "\n",
    "print \"constant\", len(colsToRemove)\n",
    "\n",
    "newX_train.drop(colsToRemove, axis=1, inplace=True)"
   ]
  },
  {
   "cell_type": "code",
   "execution_count": 54,
   "metadata": {
    "collapsed": false
   },
   "outputs": [
    {
     "name": "stdout",
     "output_type": "stream",
     "text": [
      "duplicate 22\n"
     ]
    }
   ],
   "source": [
    "# remove duplicate columns\n",
    "colsToRemove = []\n",
    "columns = newX_train.columns\n",
    "for i in range(len(columns)-1):\n",
    "    v = newX_train[columns[i]].values\n",
    "    for j in range(i+1,len(columns)):\n",
    "        if np.array_equal(v, newX_train[columns[j]].values):\n",
    "            colsToRemove.append(columns[j])\n",
    "            \n",
    "print \"duplicate\", pd.Series(colsToRemove).nunique()\n",
    "newX_train.drop(colsToRemove, axis=1, inplace=True)"
   ]
  },
  {
   "cell_type": "code",
   "execution_count": 55,
   "metadata": {
    "collapsed": true
   },
   "outputs": [],
   "source": [
    "X_train = newX_train"
   ]
  }
 ],
 "metadata": {
  "kernelspec": {
   "display_name": "Python 2",
   "language": "python",
   "name": "python2"
  },
  "language_info": {
   "codemirror_mode": {
    "name": "ipython",
    "version": 2
   },
   "file_extension": ".py",
   "mimetype": "text/x-python",
   "name": "python",
   "nbconvert_exporter": "python",
   "pygments_lexer": "ipython2",
   "version": "2.7.11"
  }
 },
 "nbformat": 4,
 "nbformat_minor": 0
}
